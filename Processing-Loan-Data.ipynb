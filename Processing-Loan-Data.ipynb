{
 "cells": [
  {
   "cell_type": "code",
   "execution_count": 4,
   "id": "5f1c6be3",
   "metadata": {},
   "outputs": [],
   "source": [
    "import numpy as np"
   ]
  },
  {
   "cell_type": "code",
   "execution_count": 5,
   "id": "68935753",
   "metadata": {},
   "outputs": [],
   "source": [
    "np.set_printoptions(suppress = True, linewidth = 100, precision = 2)"
   ]
  },
  {
   "cell_type": "markdown",
   "id": "6fea36f5",
   "metadata": {},
   "source": [
    "## Importing Data"
   ]
  },
  {
   "cell_type": "code",
   "execution_count": 6,
   "id": "92436c62",
   "metadata": {},
   "outputs": [
    {
     "data": {
      "text/plain": [
       "array([[48010226.  ,         nan,    35000.  , ...,         nan,         nan,     9452.96],\n",
       "       [57693261.  ,         nan,    30000.  , ...,         nan,         nan,     4679.7 ],\n",
       "       [59432726.  ,         nan,    15000.  , ...,         nan,         nan,     1969.83],\n",
       "       ...,\n",
       "       [50415990.  ,         nan,    10000.  , ...,         nan,         nan,     2185.64],\n",
       "       [46154151.  ,         nan,         nan, ...,         nan,         nan,     3199.4 ],\n",
       "       [66055249.  ,         nan,    10000.  , ...,         nan,         nan,      301.9 ]])"
      ]
     },
     "execution_count": 6,
     "metadata": {},
     "output_type": "execute_result"
    }
   ],
   "source": [
    "raw_data = np.genfromtxt('C:/Users/hp/Downloads/Phyton/S23 - A Loan Data Example with NumPy [DONE]/loan-data.csv', \n",
    "                         delimiter = ';', \n",
    "                         skip_header = 1, \n",
    "                         autostrip = True)\n",
    "raw_data"
   ]
  },
  {
   "cell_type": "code",
   "execution_count": 7,
   "id": "26ce22c4",
   "metadata": {},
   "outputs": [
    {
     "data": {
      "text/plain": [
       "(10000, 14)"
      ]
     },
     "execution_count": 7,
     "metadata": {},
     "output_type": "execute_result"
    }
   ],
   "source": [
    "raw_data.shape"
   ]
  },
  {
   "cell_type": "markdown",
   "id": "f9e5131d",
   "metadata": {},
   "source": [
    "## Checking Missing Value"
   ]
  },
  {
   "cell_type": "code",
   "execution_count": 8,
   "id": "e0cd73b2",
   "metadata": {},
   "outputs": [
    {
     "data": {
      "text/plain": [
       "88005"
      ]
     },
     "execution_count": 8,
     "metadata": {},
     "output_type": "execute_result"
    }
   ],
   "source": [
    "# Test element-wise for NaN and return result as a boolean array.\n",
    "np.isnan(raw_data).sum()"
   ]
  },
  {
   "cell_type": "markdown",
   "id": "4f6b9964",
   "metadata": {},
   "source": [
    "## Splitting The Dataset"
   ]
  },
  {
   "cell_type": "code",
   "execution_count": 9,
   "id": "7bdd3d5a",
   "metadata": {},
   "outputs": [
    {
     "name": "stderr",
     "output_type": "stream",
     "text": [
      "C:\\Users\\hp\\AppData\\Local\\Temp\\ipykernel_4952\\1812266064.py:1: RuntimeWarning: Mean of empty slice\n",
      "  raw_data_mean = np.nanmean(raw_data, axis = 0)\n"
     ]
    },
    {
     "data": {
      "text/plain": [
       "array([54015809.19,         nan,    15273.46,         nan,    15311.04,         nan,       16.62,\n",
       "            440.92,         nan,         nan,         nan,         nan,         nan,     3143.85])"
      ]
     },
     "execution_count": 9,
     "metadata": {},
     "output_type": "execute_result"
    }
   ],
   "source": [
    "raw_data_mean = np.nanmean(raw_data, axis = 0)\n",
    "raw_data_mean"
   ]
  },
  {
   "cell_type": "code",
   "execution_count": 10,
   "id": "9551787d",
   "metadata": {},
   "outputs": [
    {
     "data": {
      "text/plain": [
       "array([ 0,  2,  4,  6,  7, 13], dtype=int64)"
      ]
     },
     "execution_count": 10,
     "metadata": {},
     "output_type": "execute_result"
    }
   ],
   "source": [
    "# Find the indices of array elements that are non-zero, grouped by element.\n",
    "# argwhere will result in boolean (True or False)\n",
    "\n",
    "numeric = np.argwhere(np.isnan(raw_data_mean) == False).squeeze()\n",
    "numeric"
   ]
  },
  {
   "cell_type": "code",
   "execution_count": 11,
   "id": "2e44b43c",
   "metadata": {},
   "outputs": [
    {
     "data": {
      "text/plain": [
       "array([ 1,  3,  5,  8,  9, 10, 11, 12], dtype=int64)"
      ]
     },
     "execution_count": 11,
     "metadata": {},
     "output_type": "execute_result"
    }
   ],
   "source": [
    "string = np.argwhere(np.isnan(raw_data_mean)).squeeze()\n",
    "string"
   ]
  },
  {
   "cell_type": "markdown",
   "id": "34b113cf",
   "metadata": {},
   "source": [
    "## Re-importing Data"
   ]
  },
  {
   "cell_type": "code",
   "execution_count": 12,
   "id": "73e7c0e7",
   "metadata": {},
   "outputs": [
    {
     "data": {
      "text/plain": [
       "array([[48010226.  ,    35000.  ,    35000.  ,       13.33,     1184.86,     9452.96],\n",
       "       [57693261.  ,    30000.  ,    30000.  , 68616520.  ,      938.57,     4679.7 ],\n",
       "       [59432726.  ,    15000.  ,    15000.  , 68616520.  ,      494.86,     1969.83],\n",
       "       ...,\n",
       "       [50415990.  ,    10000.  ,    10000.  , 68616520.  , 68616520.  ,     2185.64],\n",
       "       [46154151.  , 68616520.  ,    10000.  ,       16.55,      354.3 ,     3199.4 ],\n",
       "       [66055249.  ,    10000.  ,    10000.  , 68616520.  ,      309.97,      301.9 ]])"
      ]
     },
     "execution_count": 12,
     "metadata": {},
     "output_type": "execute_result"
    }
   ],
   "source": [
    "filling_value = np.nanmax(raw_data) + 1\n",
    "numeric_data = np.genfromtxt('C:/Users/hp/Downloads/Phyton/S23 - A Loan Data Example with NumPy [DONE]/loan-data.csv', \n",
    "                             delimiter = ';', \n",
    "                             autostrip = True,\n",
    "                             skip_header = 1, \n",
    "                             usecols = numeric, \n",
    "                             filling_values = filling_value)\n",
    "numeric_data"
   ]
  },
  {
   "cell_type": "code",
   "execution_count": 13,
   "id": "19d888a5",
   "metadata": {},
   "outputs": [
    {
     "data": {
      "text/plain": [
       "array([['May-15', 'Current', '36 months', ..., 'Verified',\n",
       "        'https://www.lendingclub.com/browse/loanDetail.action?loan_id=48010226', 'CA'],\n",
       "       ['', 'Current', '36 months', ..., 'Source Verified',\n",
       "        'https://www.lendingclub.com/browse/loanDetail.action?loan_id=57693261', 'NY'],\n",
       "       ['Sep-15', 'Current', '36 months', ..., 'Verified',\n",
       "        'https://www.lendingclub.com/browse/loanDetail.action?loan_id=59432726', 'PA'],\n",
       "       ...,\n",
       "       ['Jun-15', 'Current', '36 months', ..., 'Source Verified',\n",
       "        'https://www.lendingclub.com/browse/loanDetail.action?loan_id=50415990', 'CA'],\n",
       "       ['Apr-15', 'Current', '36 months', ..., 'Source Verified',\n",
       "        'https://www.lendingclub.com/browse/loanDetail.action?loan_id=46154151', 'OH'],\n",
       "       ['Dec-15', 'Current', '36 months', ..., '',\n",
       "        'https://www.lendingclub.com/browse/loanDetail.action?loan_id=66055249', 'IL']],\n",
       "      dtype='<U69')"
      ]
     },
     "execution_count": 13,
     "metadata": {},
     "output_type": "execute_result"
    }
   ],
   "source": [
    "string_data = np.genfromtxt('C:/Users/hp/Downloads/Phyton/S23 - A Loan Data Example with NumPy [DONE]/loan-data.csv', \n",
    "                             delimiter = ';', \n",
    "                             autostrip = True, \n",
    "                             dtype = str,\n",
    "                             skip_header = 1, \n",
    "                             usecols = string)\n",
    "string_data"
   ]
  },
  {
   "cell_type": "markdown",
   "id": "b9652c56",
   "metadata": {},
   "source": [
    "## Columns"
   ]
  },
  {
   "cell_type": "code",
   "execution_count": 14,
   "id": "5b106355",
   "metadata": {},
   "outputs": [
    {
     "data": {
      "text/plain": [
       "array(['id', 'issue_d', 'loan_amnt', 'loan_status', 'funded_amnt', 'term', 'int_rate',\n",
       "       'installment', 'grade', 'sub_grade', 'verification_status', 'url', 'addr_state',\n",
       "       'total_pymnt'], dtype='<U19')"
      ]
     },
     "execution_count": 14,
     "metadata": {},
     "output_type": "execute_result"
    }
   ],
   "source": [
    "column_name = np.genfromtxt('C:/Users/hp/Downloads/Phyton/S23 - A Loan Data Example with NumPy [DONE]/loan-data.csv', \n",
    "                             delimiter = ';', \n",
    "                             autostrip = True,\n",
    "                             skip_footer = raw_data.shape[0], \n",
    "                             dtype = str)\n",
    "column_name"
   ]
  },
  {
   "cell_type": "code",
   "execution_count": 15,
   "id": "a88d22cf",
   "metadata": {},
   "outputs": [
    {
     "data": {
      "text/plain": [
       "array(['id', 'loan_amnt', 'funded_amnt', 'int_rate', 'installment', 'total_pymnt'], dtype='<U19')"
      ]
     },
     "execution_count": 15,
     "metadata": {},
     "output_type": "execute_result"
    }
   ],
   "source": [
    "numeric_column = column_name[numeric]\n",
    "numeric_column"
   ]
  },
  {
   "cell_type": "code",
   "execution_count": 16,
   "id": "3251818d",
   "metadata": {},
   "outputs": [
    {
     "data": {
      "text/plain": [
       "array(['issue_d', 'loan_status', 'term', 'grade', 'sub_grade', 'verification_status', 'url',\n",
       "       'addr_state'], dtype='<U19')"
      ]
     },
     "execution_count": 16,
     "metadata": {},
     "output_type": "execute_result"
    }
   ],
   "source": [
    "string_column = column_name[string]\n",
    "string_column"
   ]
  },
  {
   "cell_type": "markdown",
   "id": "17f26e55",
   "metadata": {},
   "source": [
    "## Manipulating String Data"
   ]
  },
  {
   "cell_type": "markdown",
   "id": "33b54f1c",
   "metadata": {},
   "source": [
    "### Issue Date"
   ]
  },
  {
   "cell_type": "code",
   "execution_count": 17,
   "id": "dc098c98",
   "metadata": {},
   "outputs": [
    {
     "data": {
      "text/plain": [
       "array(['issue_date', 'loan_status', 'term', 'grade', 'sub_grade', 'verification_status', 'url',\n",
       "       'addr_state'], dtype='<U19')"
      ]
     },
     "execution_count": 17,
     "metadata": {},
     "output_type": "execute_result"
    }
   ],
   "source": [
    "string_column[0] = 'issue_date'\n",
    "string_column"
   ]
  },
  {
   "cell_type": "code",
   "execution_count": 18,
   "id": "a2bd79ab",
   "metadata": {},
   "outputs": [
    {
     "data": {
      "text/plain": [
       "array(['', 'Apr-15', 'Aug-15', 'Dec-15', 'Feb-15', 'Jan-15', 'Jul-15', 'Jun-15', 'Mar-15',\n",
       "       'May-15', 'Nov-15', 'Oct-15', 'Sep-15'], dtype='<U69')"
      ]
     },
     "execution_count": 18,
     "metadata": {},
     "output_type": "execute_result"
    }
   ],
   "source": [
    "np.unique(string_data[:,0])"
   ]
  },
  {
   "cell_type": "code",
   "execution_count": 19,
   "id": "c476a291",
   "metadata": {},
   "outputs": [
    {
     "data": {
      "text/plain": [
       "array(['', 'Apr', 'Aug', 'Dec', 'Feb', 'Jan', 'Jul', 'Jun', 'Mar', 'May', 'Nov', 'Oct', 'Sep'],\n",
       "      dtype='<U69')"
      ]
     },
     "execution_count": 19,
     "metadata": {},
     "output_type": "execute_result"
    }
   ],
   "source": [
    "string_data[:,0] = np.chararray.strip(string_data[:,0], '-15')\n",
    "np.unique(string_data[:,0])"
   ]
  },
  {
   "cell_type": "code",
   "execution_count": 20,
   "id": "6f6950e2",
   "metadata": {},
   "outputs": [],
   "source": [
    "months = np.array (['', 'Jan', 'Feb', 'Mar', 'Apr', 'May', 'Jun', 'Jul', 'Aug', 'Sep', 'Oct', 'Nov', 'Dec'])"
   ]
  },
  {
   "cell_type": "code",
   "execution_count": 21,
   "id": "f1db5046",
   "metadata": {},
   "outputs": [
    {
     "data": {
      "text/plain": [
       "array(['0', '1', '10', '11', '12', '2', '3', '4', '5', '6', '7', '8', '9'], dtype='<U69')"
      ]
     },
     "execution_count": 21,
     "metadata": {},
     "output_type": "execute_result"
    }
   ],
   "source": [
    "# np.where is used with the condition. It served almost the same as conditional IF in excel.\n",
    "\n",
    "for i in range(13):\n",
    "    string_data[:,0] = np.where(string_data[:,0] == months[i], i, string_data[:,0])\n",
    "np.unique(string_data[:,0])"
   ]
  },
  {
   "cell_type": "markdown",
   "id": "c5e300cd",
   "metadata": {},
   "source": [
    "### Loan Status"
   ]
  },
  {
   "cell_type": "code",
   "execution_count": 22,
   "id": "fe1592da",
   "metadata": {},
   "outputs": [
    {
     "data": {
      "text/plain": [
       "array(['', 'Charged Off', 'Current', 'Default', 'Fully Paid', 'In Grace Period', 'Issued',\n",
       "       'Late (16-30 days)', 'Late (31-120 days)'], dtype='<U69')"
      ]
     },
     "execution_count": 22,
     "metadata": {},
     "output_type": "execute_result"
    }
   ],
   "source": [
    "np.unique(string_data[:,1])"
   ]
  },
  {
   "cell_type": "code",
   "execution_count": 23,
   "id": "bcffec5e",
   "metadata": {},
   "outputs": [],
   "source": [
    "status_bad = np.array(['', 'Charged Off', 'Late (31-120 days)', 'Issued', 'Default'])"
   ]
  },
  {
   "cell_type": "code",
   "execution_count": 24,
   "id": "d47b3531",
   "metadata": {},
   "outputs": [
    {
     "data": {
      "text/plain": [
       "array(['0', '1'], dtype='<U69')"
      ]
     },
     "execution_count": 24,
     "metadata": {},
     "output_type": "execute_result"
    }
   ],
   "source": [
    "# Return elements chosen from `x` or `y` depending on `condition`.\n",
    "\n",
    "string_data[:,1] = np.where(np.isin(string_data[:,1], status_bad), 0, 1)\n",
    "np.unique(string_data[:,1])"
   ]
  },
  {
   "cell_type": "markdown",
   "id": "825ad3f6",
   "metadata": {},
   "source": [
    "### Term"
   ]
  },
  {
   "cell_type": "code",
   "execution_count": 25,
   "id": "a3928d23",
   "metadata": {},
   "outputs": [
    {
     "data": {
      "text/plain": [
       "array(['', '36 months', '60 months'], dtype='<U69')"
      ]
     },
     "execution_count": 25,
     "metadata": {},
     "output_type": "execute_result"
    }
   ],
   "source": [
    "np.unique(string_data[:,2])"
   ]
  },
  {
   "cell_type": "code",
   "execution_count": 26,
   "id": "d6246b76",
   "metadata": {},
   "outputs": [
    {
     "data": {
      "text/plain": [
       "array(['', '36', '60'], dtype='<U69')"
      ]
     },
     "execution_count": 26,
     "metadata": {},
     "output_type": "execute_result"
    }
   ],
   "source": [
    "string_data[:,2] = np.chararray.strip(string_data[:,2], ' months')\n",
    "np.unique(string_data[:,2])"
   ]
  },
  {
   "cell_type": "code",
   "execution_count": 27,
   "id": "968765d8",
   "metadata": {},
   "outputs": [
    {
     "data": {
      "text/plain": [
       "array(['issue_date', 'loan_status', 'term_months', 'grade', 'sub_grade', 'verification_status',\n",
       "       'url', 'addr_state'], dtype='<U19')"
      ]
     },
     "execution_count": 27,
     "metadata": {},
     "output_type": "execute_result"
    }
   ],
   "source": [
    "string_column[2] = 'term_months'\n",
    "string_column"
   ]
  },
  {
   "cell_type": "code",
   "execution_count": 28,
   "id": "5f1e6ed5",
   "metadata": {},
   "outputs": [
    {
     "data": {
      "text/plain": [
       "array(['36', '60'], dtype='<U69')"
      ]
     },
     "execution_count": 28,
     "metadata": {},
     "output_type": "execute_result"
    }
   ],
   "source": [
    "string_data[:,2] = np.where(string_data[:,2] == '', '60', string_data[:,2])\n",
    "np.unique(string_data[:,2])"
   ]
  },
  {
   "cell_type": "markdown",
   "id": "dd392f6b",
   "metadata": {},
   "source": [
    "### Grade & Sub-grade"
   ]
  },
  {
   "cell_type": "code",
   "execution_count": 29,
   "id": "7e9f321c",
   "metadata": {},
   "outputs": [
    {
     "data": {
      "text/plain": [
       "array(['', 'A', 'B', 'C', 'D', 'E', 'F', 'G'], dtype='<U69')"
      ]
     },
     "execution_count": 29,
     "metadata": {},
     "output_type": "execute_result"
    }
   ],
   "source": [
    "np.unique(string_data[:,3])"
   ]
  },
  {
   "cell_type": "code",
   "execution_count": 30,
   "id": "f759e815",
   "metadata": {},
   "outputs": [
    {
     "data": {
      "text/plain": [
       "array(['', 'A1', 'A2', 'A3', 'A4', 'A5', 'B1', 'B2', 'B3', 'B4', 'B5', 'C1', 'C2', 'C3', 'C4',\n",
       "       'C5', 'D1', 'D2', 'D3', 'D4', 'D5', 'E1', 'E2', 'E3', 'E4', 'E5', 'F1', 'F2', 'F3', 'F4',\n",
       "       'F5', 'G1', 'G2', 'G3', 'G4', 'G5'], dtype='<U69')"
      ]
     },
     "execution_count": 30,
     "metadata": {},
     "output_type": "execute_result"
    }
   ],
   "source": [
    "np.unique(string_data[:,4])"
   ]
  },
  {
   "cell_type": "code",
   "execution_count": 31,
   "id": "d691620a",
   "metadata": {},
   "outputs": [],
   "source": [
    "string_data[:,4] = np.where(string_data[:,4] == '', 'H1', string_data[:,4])"
   ]
  },
  {
   "cell_type": "code",
   "execution_count": 32,
   "id": "77957b6a",
   "metadata": {},
   "outputs": [
    {
     "data": {
      "text/plain": [
       "array(['A1', 'A2', 'A3', 'A4', 'A5', 'B1', 'B2', 'B3', 'B4', 'B5', 'C1', 'C2', 'C3', 'C4', 'C5',\n",
       "       'D1', 'D2', 'D3', 'D4', 'D5', 'E1', 'E2', 'E3', 'E4', 'E5', 'F1', 'F2', 'F3', 'F4', 'F5',\n",
       "       'G1', 'G2', 'G3', 'G4', 'G5', 'H1'], dtype='<U69')"
      ]
     },
     "execution_count": 32,
     "metadata": {},
     "output_type": "execute_result"
    }
   ],
   "source": [
    "np.unique(string_data[:,4])"
   ]
  },
  {
   "cell_type": "code",
   "execution_count": 33,
   "id": "01f34560",
   "metadata": {},
   "outputs": [
    {
     "data": {
      "text/plain": [
       "array(['', 'A', 'B', 'C', 'D', 'E', 'F', 'G'], dtype='<U69')"
      ]
     },
     "execution_count": 33,
     "metadata": {},
     "output_type": "execute_result"
    }
   ],
   "source": [
    "np.unique(string_data[:,3])"
   ]
  },
  {
   "cell_type": "code",
   "execution_count": 34,
   "id": "00de4f5c",
   "metadata": {},
   "outputs": [
    {
     "data": {
      "text/plain": [
       "array(['issue_date', 'loan_status', 'term_months', 'sub_grade', 'verification_status', 'url',\n",
       "       'addr_state'], dtype='<U19')"
      ]
     },
     "execution_count": 34,
     "metadata": {},
     "output_type": "execute_result"
    }
   ],
   "source": [
    "string_column = np.delete(string_column, 3)\n",
    "string_column"
   ]
  },
  {
   "cell_type": "code",
   "execution_count": 35,
   "id": "4a8ea64e",
   "metadata": {},
   "outputs": [],
   "source": [
    "string_data = np.delete(string_data, 3, axis = 1)"
   ]
  },
  {
   "cell_type": "code",
   "execution_count": 36,
   "id": "c0ec9dd6",
   "metadata": {},
   "outputs": [
    {
     "name": "stdout",
     "output_type": "stream",
     "text": [
      "{'A1': 1, 'A2': 2, 'A3': 3, 'A4': 4, 'A5': 5, 'B1': 6, 'B2': 7, 'B3': 8, 'B4': 9, 'B5': 10, 'C1': 11, 'C2': 12, 'C3': 13, 'C4': 14, 'C5': 15, 'D1': 16, 'D2': 17, 'D3': 18, 'D4': 19, 'D5': 20, 'E1': 21, 'E2': 22, 'E3': 23, 'E4': 24, 'E5': 25, 'F1': 26, 'F2': 27, 'F3': 28, 'F4': 29, 'F5': 30, 'G1': 31, 'G2': 32, 'G3': 33, 'G4': 34, 'G5': 35, 'H1': 36} "
     ]
    }
   ],
   "source": [
    "# 37 jumlah unique value di string_data[:,3]\n",
    "\n",
    "keys = list(np.unique(string_data[:,3]))\n",
    "values = list(range(1,37))\n",
    "dict_sub_grade = dict(zip(keys, values))\n",
    "print (dict_sub_grade, end=' ')"
   ]
  },
  {
   "cell_type": "code",
   "execution_count": 37,
   "id": "1ee2a6d5",
   "metadata": {},
   "outputs": [],
   "source": [
    "for i in np.unique(string_data[:,3]):\n",
    "    string_data[:,3] = np.where(string_data[:,3] == i, dict_sub_grade[i], string_data[:,3])"
   ]
  },
  {
   "cell_type": "code",
   "execution_count": 38,
   "id": "5b2241fa",
   "metadata": {},
   "outputs": [
    {
     "data": {
      "text/plain": [
       "array(['1', '10', '11', '12', '13', '14', '15', '16', '17', '18', '19', '2', '20', '21', '22',\n",
       "       '23', '24', '25', '26', '27', '28', '29', '3', '30', '31', '32', '33', '34', '35', '36',\n",
       "       '4', '5', '6', '7', '8', '9'], dtype='<U69')"
      ]
     },
     "execution_count": 38,
     "metadata": {},
     "output_type": "execute_result"
    }
   ],
   "source": [
    "np.unique(string_data[:,3])"
   ]
  },
  {
   "cell_type": "markdown",
   "id": "0fb2229c",
   "metadata": {},
   "source": [
    "### Verification Status"
   ]
  },
  {
   "cell_type": "code",
   "execution_count": 39,
   "id": "10c80500",
   "metadata": {},
   "outputs": [
    {
     "data": {
      "text/plain": [
       "array(['', 'Not Verified', 'Source Verified', 'Verified'], dtype='<U69')"
      ]
     },
     "execution_count": 39,
     "metadata": {},
     "output_type": "execute_result"
    }
   ],
   "source": [
    "np.unique(string_data[:,4])"
   ]
  },
  {
   "cell_type": "code",
   "execution_count": 40,
   "id": "726a42c0",
   "metadata": {},
   "outputs": [],
   "source": [
    "string_data[:,4] = np.where(((string_data[:,4] == '') | (string_data[:,4] == 'Not Verified')), 0, 1)"
   ]
  },
  {
   "cell_type": "code",
   "execution_count": 41,
   "id": "9c08651c",
   "metadata": {},
   "outputs": [
    {
     "data": {
      "text/plain": [
       "array(['0', '1'], dtype='<U69')"
      ]
     },
     "execution_count": 41,
     "metadata": {},
     "output_type": "execute_result"
    }
   ],
   "source": [
    "np.unique(string_data[:,4])"
   ]
  },
  {
   "cell_type": "markdown",
   "id": "aeec1105",
   "metadata": {},
   "source": [
    "### URL"
   ]
  },
  {
   "cell_type": "code",
   "execution_count": 42,
   "id": "68971d3a",
   "metadata": {},
   "outputs": [
    {
     "data": {
      "text/plain": [
       "array(['https://www.lendingclub.com/browse/loanDetail.action?loan_id=12606806',\n",
       "       'https://www.lendingclub.com/browse/loanDetail.action?loan_id=13026045',\n",
       "       'https://www.lendingclub.com/browse/loanDetail.action?loan_id=1312426', ...,\n",
       "       'https://www.lendingclub.com/browse/loanDetail.action?loan_id=8138291',\n",
       "       'https://www.lendingclub.com/browse/loanDetail.action?loan_id=8214572',\n",
       "       'https://www.lendingclub.com/browse/loanDetail.action?loan_id=849994'], dtype='<U69')"
      ]
     },
     "execution_count": 42,
     "metadata": {},
     "output_type": "execute_result"
    }
   ],
   "source": [
    "np.unique(string_data[:,5])"
   ]
  },
  {
   "cell_type": "code",
   "execution_count": 43,
   "id": "40966e8d",
   "metadata": {},
   "outputs": [],
   "source": [
    "string_data[:,5] = np.chararray.strip(string_data[:,5], 'https://www.lendingclub.com/browse/loanDetail.action?loan_id=')"
   ]
  },
  {
   "cell_type": "code",
   "execution_count": 44,
   "id": "2246cb8c",
   "metadata": {},
   "outputs": [
    {
     "data": {
      "text/plain": [
       "array(['48010226', '57693261', '59432726', ..., '50415990', '46154151', '66055249'], dtype='<U69')"
      ]
     },
     "execution_count": 44,
     "metadata": {},
     "output_type": "execute_result"
    }
   ],
   "source": [
    "string_data[:,5]"
   ]
  },
  {
   "cell_type": "code",
   "execution_count": 45,
   "id": "be0b3554",
   "metadata": {},
   "outputs": [
    {
     "data": {
      "text/plain": [
       "array([48010226., 57693261., 59432726., ..., 50415990., 46154151., 66055249.])"
      ]
     },
     "execution_count": 45,
     "metadata": {},
     "output_type": "execute_result"
    }
   ],
   "source": [
    "numeric_data[:,0]"
   ]
  },
  {
   "cell_type": "code",
   "execution_count": 46,
   "id": "70ce5255",
   "metadata": {},
   "outputs": [
    {
     "data": {
      "text/plain": [
       "True"
      ]
     },
     "execution_count": 46,
     "metadata": {},
     "output_type": "execute_result"
    }
   ],
   "source": [
    "np.array_equal(string_data[:,5].astype(dtype = int), numeric_data[:,0].astype(dtype = int))"
   ]
  },
  {
   "cell_type": "code",
   "execution_count": 47,
   "id": "7e054947",
   "metadata": {},
   "outputs": [],
   "source": [
    "string_data = np.delete(string_data, 5, axis = 1)"
   ]
  },
  {
   "cell_type": "code",
   "execution_count": 48,
   "id": "a95a24e9",
   "metadata": {},
   "outputs": [
    {
     "data": {
      "text/plain": [
       "array(['issue_date', 'loan_status', 'term_months', 'sub_grade', 'verification_status',\n",
       "       'addr_state'], dtype='<U19')"
      ]
     },
     "execution_count": 48,
     "metadata": {},
     "output_type": "execute_result"
    }
   ],
   "source": [
    "string_column = np.delete(string_column, 5)\n",
    "string_column"
   ]
  },
  {
   "cell_type": "markdown",
   "id": "2fda09e2",
   "metadata": {},
   "source": [
    "### State Address"
   ]
  },
  {
   "cell_type": "code",
   "execution_count": 49,
   "id": "e6a97b47",
   "metadata": {},
   "outputs": [
    {
     "data": {
      "text/plain": [
       "array(['', 'AK', 'AL', 'AR', 'AZ', 'CA', 'CO', 'CT', 'DC', 'DE', 'FL', 'GA', 'HI', 'IL', 'IN',\n",
       "       'KS', 'KY', 'LA', 'MA', 'MD', 'ME', 'MI', 'MN', 'MO', 'MS', 'MT', 'NC', 'ND', 'NE', 'NH',\n",
       "       'NJ', 'NM', 'NV', 'NY', 'OH', 'OK', 'OR', 'PA', 'RI', 'SC', 'SD', 'TN', 'TX', 'UT', 'VA',\n",
       "       'VT', 'WA', 'WI', 'WV', 'WY'], dtype='<U69')"
      ]
     },
     "execution_count": 49,
     "metadata": {},
     "output_type": "execute_result"
    }
   ],
   "source": [
    "np.unique(string_data[:,5])"
   ]
  },
  {
   "cell_type": "code",
   "execution_count": 50,
   "id": "acc56b5b",
   "metadata": {},
   "outputs": [
    {
     "data": {
      "text/plain": [
       "array(['issue_date', 'loan_status', 'term_months', 'sub_grade', 'verification_status',\n",
       "       'state_address'], dtype='<U19')"
      ]
     },
     "execution_count": 50,
     "metadata": {},
     "output_type": "execute_result"
    }
   ],
   "source": [
    "string_column[5] = 'state_address'\n",
    "string_column"
   ]
  },
  {
   "cell_type": "code",
   "execution_count": 51,
   "id": "0cb8d506",
   "metadata": {},
   "outputs": [],
   "source": [
    "string_data[:,5] = np.where(string_data[:,5] == '', 0 , string_data[:,5])"
   ]
  },
  {
   "cell_type": "code",
   "execution_count": 52,
   "id": "2e82ea41",
   "metadata": {},
   "outputs": [
    {
     "data": {
      "text/plain": [
       "array(['0', 'AK', 'AL', 'AR', 'AZ', 'CA', 'CO', 'CT', 'DC', 'DE', 'FL', 'GA', 'HI', 'IL', 'IN',\n",
       "       'KS', 'KY', 'LA', 'MA', 'MD', 'ME', 'MI', 'MN', 'MO', 'MS', 'MT', 'NC', 'ND', 'NE', 'NH',\n",
       "       'NJ', 'NM', 'NV', 'NY', 'OH', 'OK', 'OR', 'PA', 'RI', 'SC', 'SD', 'TN', 'TX', 'UT', 'VA',\n",
       "       'VT', 'WA', 'WI', 'WV', 'WY'], dtype='<U69')"
      ]
     },
     "execution_count": 52,
     "metadata": {},
     "output_type": "execute_result"
    }
   ],
   "source": [
    "np.unique(string_data[:,5])"
   ]
  },
  {
   "cell_type": "code",
   "execution_count": 53,
   "id": "51f61beb",
   "metadata": {},
   "outputs": [],
   "source": [
    "states_west = np.array(['WA', 'OR','CA','NV','ID','MT', 'WY','UT','CO', 'AZ','NM','HI','AK'])\n",
    "states_south = np.array(['TX','OK','AR','LA','MS','AL','TN','KY','FL','GA','SC','NC','VA','WV','MD','DE','DC'])\n",
    "states_midwest = np.array(['ND','SD','NE','KS','MN','IA','MO','WI','IL','IN','MI','OH'])\n",
    "states_east = np.array(['PA','NY','NJ','CT','MA','VT','NH','ME','RI'])"
   ]
  },
  {
   "cell_type": "code",
   "execution_count": 54,
   "id": "d9ef819c",
   "metadata": {},
   "outputs": [],
   "source": [
    "string_data[:,5] = np.where(np.isin(string_data[:,5], states_west), 1, string_data[:,5])\n",
    "string_data[:,5] = np.where(np.isin(string_data[:,5], states_south), 2, string_data[:,5])\n",
    "string_data[:,5] = np.where(np.isin(string_data[:,5], states_midwest), 3, string_data[:,5])\n",
    "string_data[:,5] = np.where(np.isin(string_data[:,5], states_east), 4, string_data[:,5])"
   ]
  },
  {
   "cell_type": "code",
   "execution_count": 55,
   "id": "1f109f8d",
   "metadata": {},
   "outputs": [
    {
     "data": {
      "text/plain": [
       "array(['0', '1', '2', '3', '4'], dtype='<U69')"
      ]
     },
     "execution_count": 55,
     "metadata": {},
     "output_type": "execute_result"
    }
   ],
   "source": [
    "np.unique(string_data[:,5])"
   ]
  },
  {
   "cell_type": "markdown",
   "id": "eb648440",
   "metadata": {},
   "source": [
    "## Converting to Number"
   ]
  },
  {
   "cell_type": "code",
   "execution_count": 56,
   "id": "ac0f560b",
   "metadata": {},
   "outputs": [
    {
     "data": {
      "text/plain": [
       "array([['5', '1', '36', '13', '1', '1'],\n",
       "       ['0', '1', '36', '5', '1', '4'],\n",
       "       ['9', '1', '36', '10', '1', '4'],\n",
       "       ...,\n",
       "       ['6', '1', '36', '5', '1', '1'],\n",
       "       ['4', '1', '36', '17', '1', '3'],\n",
       "       ['12', '1', '36', '4', '0', '3']], dtype='<U69')"
      ]
     },
     "execution_count": 56,
     "metadata": {},
     "output_type": "execute_result"
    }
   ],
   "source": [
    "string_data"
   ]
  },
  {
   "cell_type": "code",
   "execution_count": 57,
   "id": "4eee69e5",
   "metadata": {},
   "outputs": [],
   "source": [
    "string_data = string_data.astype(dtype = int)"
   ]
  },
  {
   "cell_type": "code",
   "execution_count": 58,
   "id": "fdab806e",
   "metadata": {},
   "outputs": [
    {
     "data": {
      "text/plain": [
       "array([[ 5,  1, 36, 13,  1,  1],\n",
       "       [ 0,  1, 36,  5,  1,  4],\n",
       "       [ 9,  1, 36, 10,  1,  4],\n",
       "       ...,\n",
       "       [ 6,  1, 36,  5,  1,  1],\n",
       "       [ 4,  1, 36, 17,  1,  3],\n",
       "       [12,  1, 36,  4,  0,  3]])"
      ]
     },
     "execution_count": 58,
     "metadata": {},
     "output_type": "execute_result"
    }
   ],
   "source": [
    "string_data"
   ]
  },
  {
   "cell_type": "code",
   "execution_count": 59,
   "id": "4f6908b2",
   "metadata": {},
   "outputs": [
    {
     "data": {
      "text/plain": [
       "array(['issue_date', 'loan_status', 'term_months', 'sub_grade', 'verification_status',\n",
       "       'state_address'], dtype='<U19')"
      ]
     },
     "execution_count": 59,
     "metadata": {},
     "output_type": "execute_result"
    }
   ],
   "source": [
    "string_column"
   ]
  },
  {
   "cell_type": "markdown",
   "id": "8407d8b2",
   "metadata": {},
   "source": [
    "## Manipulating Numeric Column"
   ]
  },
  {
   "cell_type": "code",
   "execution_count": 60,
   "id": "08220fff",
   "metadata": {},
   "outputs": [
    {
     "data": {
      "text/plain": [
       "array(['id', 'loan_amnt', 'funded_amnt', 'int_rate', 'installment', 'total_pymnt'], dtype='<U19')"
      ]
     },
     "execution_count": 60,
     "metadata": {},
     "output_type": "execute_result"
    }
   ],
   "source": [
    "numeric_column"
   ]
  },
  {
   "cell_type": "code",
   "execution_count": 61,
   "id": "2afcca31",
   "metadata": {},
   "outputs": [
    {
     "data": {
      "text/plain": [
       "array([[48010226.  ,    35000.  ,    35000.  ,       13.33,     1184.86,     9452.96],\n",
       "       [57693261.  ,    30000.  ,    30000.  , 68616520.  ,      938.57,     4679.7 ],\n",
       "       [59432726.  ,    15000.  ,    15000.  , 68616520.  ,      494.86,     1969.83],\n",
       "       ...,\n",
       "       [50415990.  ,    10000.  ,    10000.  , 68616520.  , 68616520.  ,     2185.64],\n",
       "       [46154151.  , 68616520.  ,    10000.  ,       16.55,      354.3 ,     3199.4 ],\n",
       "       [66055249.  ,    10000.  ,    10000.  , 68616520.  ,      309.97,      301.9 ]])"
      ]
     },
     "execution_count": 61,
     "metadata": {},
     "output_type": "execute_result"
    }
   ],
   "source": [
    "numeric_data"
   ]
  },
  {
   "cell_type": "code",
   "execution_count": 62,
   "id": "bd3f85c2",
   "metadata": {},
   "outputs": [
    {
     "data": {
      "text/plain": [
       "0"
      ]
     },
     "execution_count": 62,
     "metadata": {},
     "output_type": "execute_result"
    }
   ],
   "source": [
    "np.isnan(numeric_data).sum()"
   ]
  },
  {
   "cell_type": "markdown",
   "id": "067117e7",
   "metadata": {},
   "source": [
    "### ID"
   ]
  },
  {
   "cell_type": "code",
   "execution_count": 63,
   "id": "c494fc03",
   "metadata": {},
   "outputs": [
    {
     "data": {
      "text/plain": [
       "68616520.0"
      ]
     },
     "execution_count": 63,
     "metadata": {},
     "output_type": "execute_result"
    }
   ],
   "source": [
    "filling_value"
   ]
  },
  {
   "cell_type": "code",
   "execution_count": 64,
   "id": "8ccba9f2",
   "metadata": {},
   "outputs": [
    {
     "data": {
      "text/plain": [
       "0"
      ]
     },
     "execution_count": 64,
     "metadata": {},
     "output_type": "execute_result"
    }
   ],
   "source": [
    "np.isin(numeric_data[:,0], filling_value).sum()"
   ]
  },
  {
   "cell_type": "markdown",
   "id": "de2ae062",
   "metadata": {},
   "source": [
    "### Loan Amount"
   ]
  },
  {
   "cell_type": "code",
   "execution_count": 65,
   "id": "53d81a00",
   "metadata": {},
   "outputs": [
    {
     "data": {
      "text/plain": [
       "array([   35000.,    30000.,    15000., ...,    10000., 68616520.,    10000.])"
      ]
     },
     "execution_count": 65,
     "metadata": {},
     "output_type": "execute_result"
    }
   ],
   "source": [
    "numeric_data[:,1]"
   ]
  },
  {
   "cell_type": "code",
   "execution_count": 66,
   "id": "665dd136",
   "metadata": {},
   "outputs": [
    {
     "data": {
      "text/plain": [
       "array([373332.  ,   1000.  ,   1000.  ,      6.  ,     31.42,      0.  ])"
      ]
     },
     "execution_count": 66,
     "metadata": {},
     "output_type": "execute_result"
    }
   ],
   "source": [
    "filling = np.nanmin(numeric_data, axis = 0)\n",
    "filling"
   ]
  },
  {
   "cell_type": "code",
   "execution_count": 67,
   "id": "67f0c025",
   "metadata": {},
   "outputs": [],
   "source": [
    "numeric_data[:,1] = np.where(numeric_data[:,1] == filling_value, filling[1], numeric_data[:,1])"
   ]
  },
  {
   "cell_type": "code",
   "execution_count": 68,
   "id": "838e5c8e",
   "metadata": {},
   "outputs": [
    {
     "data": {
      "text/plain": [
       "array([35000., 30000., 15000., ..., 10000.,  1000., 10000.])"
      ]
     },
     "execution_count": 68,
     "metadata": {},
     "output_type": "execute_result"
    }
   ],
   "source": [
    "numeric_data[:,1]"
   ]
  },
  {
   "cell_type": "markdown",
   "id": "cc5e187d",
   "metadata": {},
   "source": [
    "### Funded Amount, Rate, Installment, Funded Payment"
   ]
  },
  {
   "cell_type": "code",
   "execution_count": 69,
   "id": "533a2045",
   "metadata": {},
   "outputs": [],
   "source": [
    "for i in [2,3,4,5]:\n",
    "    numeric_data[:,i] = np.where(numeric_data[:,i] == filling_value, filling[i], numeric_data[:,i])"
   ]
  },
  {
   "cell_type": "code",
   "execution_count": 70,
   "id": "50f072d3",
   "metadata": {},
   "outputs": [
    {
     "data": {
      "text/plain": [
       "array([[48010226.  ,    35000.  ,    35000.  ,       13.33,     1184.86,     9452.96],\n",
       "       [57693261.  ,    30000.  ,    30000.  ,        6.  ,      938.57,     4679.7 ],\n",
       "       [59432726.  ,    15000.  ,    15000.  ,        6.  ,      494.86,     1969.83],\n",
       "       ...,\n",
       "       [50415990.  ,    10000.  ,    10000.  ,        6.  ,       31.42,     2185.64],\n",
       "       [46154151.  ,     1000.  ,    10000.  ,       16.55,      354.3 ,     3199.4 ],\n",
       "       [66055249.  ,    10000.  ,    10000.  ,        6.  ,      309.97,      301.9 ]])"
      ]
     },
     "execution_count": 70,
     "metadata": {},
     "output_type": "execute_result"
    }
   ],
   "source": [
    "numeric_data"
   ]
  },
  {
   "cell_type": "markdown",
   "id": "a6451c35",
   "metadata": {},
   "source": [
    "## Currency Change"
   ]
  },
  {
   "cell_type": "markdown",
   "id": "21029265",
   "metadata": {},
   "source": [
    "### Exchange Rate"
   ]
  },
  {
   "cell_type": "code",
   "execution_count": 71,
   "id": "9dab77d2",
   "metadata": {},
   "outputs": [
    {
     "data": {
      "text/plain": [
       "array([1.13, 1.12, 1.08, 1.11, 1.1 , 1.12, 1.09, 1.13, 1.13, 1.1 , 1.06, 1.09])"
      ]
     },
     "execution_count": 71,
     "metadata": {},
     "output_type": "execute_result"
    }
   ],
   "source": [
    "EUR_USD = np.genfromtxt('C:/Users/hp/Downloads/Phyton/S23 - A Loan Data Example with NumPy [DONE]/EUR-USD.csv', \n",
    "                        delimiter = ',', \n",
    "                        autostrip = True, \n",
    "                        usecols = 3, \n",
    "                        skip_header = 1)\n",
    "EUR_USD"
   ]
  },
  {
   "cell_type": "code",
   "execution_count": 72,
   "id": "a80d927f",
   "metadata": {},
   "outputs": [
    {
     "data": {
      "text/plain": [
       "array([ 5,  0,  9, ...,  6,  4, 12])"
      ]
     },
     "execution_count": 72,
     "metadata": {},
     "output_type": "execute_result"
    }
   ],
   "source": [
    "string_data[:,0]"
   ]
  },
  {
   "cell_type": "code",
   "execution_count": 73,
   "id": "0d27fc5a",
   "metadata": {},
   "outputs": [
    {
     "data": {
      "text/plain": [
       "1.1056866943836212"
      ]
     },
     "execution_count": 73,
     "metadata": {},
     "output_type": "execute_result"
    }
   ],
   "source": [
    "np.mean(EUR_USD)"
   ]
  },
  {
   "cell_type": "code",
   "execution_count": 74,
   "id": "50694fad",
   "metadata": {},
   "outputs": [
    {
     "data": {
      "text/plain": [
       "array([1.1 , 1.11, 1.13, ..., 1.12, 1.11, 1.09])"
      ]
     },
     "execution_count": 74,
     "metadata": {},
     "output_type": "execute_result"
    }
   ],
   "source": [
    "exchange_rate = string_data[:,0]\n",
    "\n",
    "for i in range(1,13):\n",
    "    exchange_rate = np.where(exchange_rate == i, EUR_USD[i-1], exchange_rate)\n",
    "    \n",
    "exchange_rate = np.where(exchange_rate == 0, np.mean(EUR_USD), exchange_rate)\n",
    "\n",
    "exchange_rate"
   ]
  },
  {
   "cell_type": "code",
   "execution_count": 75,
   "id": "ba71de49",
   "metadata": {},
   "outputs": [
    {
     "data": {
      "text/plain": [
       "(10000,)"
      ]
     },
     "execution_count": 75,
     "metadata": {},
     "output_type": "execute_result"
    }
   ],
   "source": [
    "exchange_rate.shape"
   ]
  },
  {
   "cell_type": "code",
   "execution_count": 76,
   "id": "07b29e5c",
   "metadata": {},
   "outputs": [
    {
     "data": {
      "text/plain": [
       "array([[1.1 ],\n",
       "       [1.11],\n",
       "       [1.13],\n",
       "       ...,\n",
       "       [1.12],\n",
       "       [1.11],\n",
       "       [1.09]])"
      ]
     },
     "execution_count": 76,
     "metadata": {},
     "output_type": "execute_result"
    }
   ],
   "source": [
    "exchange_rate = np.reshape(exchange_rate, (10000,1))\n",
    "exchange_rate"
   ]
  },
  {
   "cell_type": "code",
   "execution_count": 77,
   "id": "1f6003e5",
   "metadata": {},
   "outputs": [
    {
     "data": {
      "text/plain": [
       "array([[48010226.  ,    35000.  ,    35000.  , ...,     1184.86,     9452.96,        1.1 ],\n",
       "       [57693261.  ,    30000.  ,    30000.  , ...,      938.57,     4679.7 ,        1.11],\n",
       "       [59432726.  ,    15000.  ,    15000.  , ...,      494.86,     1969.83,        1.13],\n",
       "       ...,\n",
       "       [50415990.  ,    10000.  ,    10000.  , ...,       31.42,     2185.64,        1.12],\n",
       "       [46154151.  ,     1000.  ,    10000.  , ...,      354.3 ,     3199.4 ,        1.11],\n",
       "       [66055249.  ,    10000.  ,    10000.  , ...,      309.97,      301.9 ,        1.09]])"
      ]
     },
     "execution_count": 77,
     "metadata": {},
     "output_type": "execute_result"
    }
   ],
   "source": [
    "# Stack arrays in sequence horizontally (column wise).\n",
    "\n",
    "numeric_data = np.hstack((numeric_data, exchange_rate))\n",
    "numeric_data"
   ]
  },
  {
   "cell_type": "code",
   "execution_count": 78,
   "id": "25570da0",
   "metadata": {},
   "outputs": [
    {
     "data": {
      "text/plain": [
       "array(['id', 'loan_amnt', 'funded_amnt', 'int_rate', 'installment', 'total_pymnt', 'exchange_rate'],\n",
       "      dtype='<U19')"
      ]
     },
     "execution_count": 78,
     "metadata": {},
     "output_type": "execute_result"
    }
   ],
   "source": [
    "numeric_column = np.concatenate((numeric_column, np.array(['exchange_rate'])))\n",
    "numeric_column"
   ]
  },
  {
   "cell_type": "markdown",
   "id": "6e0b2505",
   "metadata": {},
   "source": [
    "### USD to EUR"
   ]
  },
  {
   "cell_type": "code",
   "execution_count": 79,
   "id": "28760e24",
   "metadata": {},
   "outputs": [],
   "source": [
    "usd_column = np.array([1,2,4,5])"
   ]
  },
  {
   "cell_type": "code",
   "execution_count": 80,
   "id": "7ab89546",
   "metadata": {},
   "outputs": [],
   "source": [
    "for i in usd_column:\n",
    "    numeric_data = np.hstack((numeric_data, np.reshape(numeric_data[:,i] / numeric_data[:,6], (10000,1))))"
   ]
  },
  {
   "cell_type": "code",
   "execution_count": 81,
   "id": "82b6caee",
   "metadata": {},
   "outputs": [
    {
     "data": {
      "text/plain": [
       "(10000, 11)"
      ]
     },
     "execution_count": 81,
     "metadata": {},
     "output_type": "execute_result"
    }
   ],
   "source": [
    "numeric_data.shape"
   ]
  },
  {
   "cell_type": "markdown",
   "id": "9f358b0a",
   "metadata": {},
   "source": [
    "### Naming The Header"
   ]
  },
  {
   "cell_type": "code",
   "execution_count": 82,
   "id": "a5eb0b64",
   "metadata": {},
   "outputs": [],
   "source": [
    "header_eur = np.array([column_name + '_EUR' for column_name in numeric_column[usd_column]])"
   ]
  },
  {
   "cell_type": "code",
   "execution_count": 83,
   "id": "38eb6f9a",
   "metadata": {},
   "outputs": [
    {
     "data": {
      "text/plain": [
       "array(['loan_amnt_EUR', 'funded_amnt_EUR', 'installment_EUR', 'total_pymnt_EUR'], dtype='<U15')"
      ]
     },
     "execution_count": 83,
     "metadata": {},
     "output_type": "execute_result"
    }
   ],
   "source": [
    "header_eur"
   ]
  },
  {
   "cell_type": "code",
   "execution_count": 84,
   "id": "613a771b",
   "metadata": {},
   "outputs": [],
   "source": [
    "numeric_column = np.concatenate((numeric_column, header_eur))"
   ]
  },
  {
   "cell_type": "code",
   "execution_count": 85,
   "id": "11b3fa31",
   "metadata": {},
   "outputs": [
    {
     "data": {
      "text/plain": [
       "array(['id', 'loan_amnt', 'funded_amnt', 'int_rate', 'installment', 'total_pymnt', 'exchange_rate',\n",
       "       'loan_amnt_EUR', 'funded_amnt_EUR', 'installment_EUR', 'total_pymnt_EUR'], dtype='<U19')"
      ]
     },
     "execution_count": 85,
     "metadata": {},
     "output_type": "execute_result"
    }
   ],
   "source": [
    "numeric_column"
   ]
  },
  {
   "cell_type": "code",
   "execution_count": 86,
   "id": "e41cb87e",
   "metadata": {},
   "outputs": [],
   "source": [
    "numeric_column[usd_column] = np.array([column_name + '_USD' for column_name in numeric_column[usd_column]])"
   ]
  },
  {
   "cell_type": "code",
   "execution_count": 87,
   "id": "0d102da2",
   "metadata": {},
   "outputs": [
    {
     "data": {
      "text/plain": [
       "array(['id', 'loan_amnt_USD', 'funded_amnt_USD', 'int_rate', 'installment_USD', 'total_pymnt_USD',\n",
       "       'exchange_rate', 'loan_amnt_EUR', 'funded_amnt_EUR', 'installment_EUR', 'total_pymnt_EUR'],\n",
       "      dtype='<U19')"
      ]
     },
     "execution_count": 87,
     "metadata": {},
     "output_type": "execute_result"
    }
   ],
   "source": [
    "numeric_column"
   ]
  },
  {
   "cell_type": "code",
   "execution_count": 88,
   "id": "a156c74d",
   "metadata": {},
   "outputs": [],
   "source": [
    "numeric_column_index = [0, 3, 6, 1, 7, 2, 8, 4, 9, 5, 10]"
   ]
  },
  {
   "cell_type": "code",
   "execution_count": 89,
   "id": "49502ca5",
   "metadata": {},
   "outputs": [
    {
     "data": {
      "text/plain": [
       "array(['id', 'int_rate', 'exchange_rate', 'loan_amnt_USD', 'loan_amnt_EUR', 'funded_amnt_USD',\n",
       "       'funded_amnt_EUR', 'installment_USD', 'installment_EUR', 'total_pymnt_USD',\n",
       "       'total_pymnt_EUR'], dtype='<U19')"
      ]
     },
     "execution_count": 89,
     "metadata": {},
     "output_type": "execute_result"
    }
   ],
   "source": [
    "numeric_column = numeric_column[numeric_column_index]\n",
    "numeric_column"
   ]
  },
  {
   "cell_type": "code",
   "execution_count": 90,
   "id": "51248fb2",
   "metadata": {},
   "outputs": [],
   "source": [
    "numeric_data = numeric_data[:, numeric_column_index]"
   ]
  },
  {
   "cell_type": "code",
   "execution_count": 91,
   "id": "5c5c4cc1",
   "metadata": {},
   "outputs": [
    {
     "data": {
      "text/plain": [
       "array([[48010226.  ,       13.33,        1.1 , ...,     1081.04,     9452.96,     8624.69],\n",
       "       [57693261.  ,        6.  ,        1.11, ...,      848.86,     4679.7 ,     4232.39],\n",
       "       [59432726.  ,        6.  ,        1.13, ...,      439.64,     1969.83,     1750.04],\n",
       "       ...,\n",
       "       [50415990.  ,        6.  ,        1.12, ...,       28.  ,     2185.64,     1947.47],\n",
       "       [46154151.  ,       16.55,        1.11, ...,      318.78,     3199.4 ,     2878.63],\n",
       "       [66055249.  ,        6.  ,        1.09, ...,      283.49,      301.9 ,      276.11]])"
      ]
     },
     "execution_count": 91,
     "metadata": {},
     "output_type": "execute_result"
    }
   ],
   "source": [
    "numeric_data"
   ]
  },
  {
   "cell_type": "markdown",
   "id": "f4b5be6a",
   "metadata": {},
   "source": [
    "### Interest Rate"
   ]
  },
  {
   "cell_type": "code",
   "execution_count": 92,
   "id": "cbb7db5f",
   "metadata": {},
   "outputs": [
    {
     "data": {
      "text/plain": [
       "array([13.33,  6.  ,  6.  , ...,  6.  , 16.55,  6.  ])"
      ]
     },
     "execution_count": 92,
     "metadata": {},
     "output_type": "execute_result"
    }
   ],
   "source": [
    "numeric_data[:,1]"
   ]
  },
  {
   "cell_type": "code",
   "execution_count": 93,
   "id": "bdfacb09",
   "metadata": {},
   "outputs": [],
   "source": [
    "numeric_data[:,1] = numeric_data[:,1]/100"
   ]
  },
  {
   "cell_type": "code",
   "execution_count": 94,
   "id": "5aeaaa07",
   "metadata": {},
   "outputs": [
    {
     "data": {
      "text/plain": [
       "array([0.13, 0.06, 0.06, ..., 0.06, 0.17, 0.06])"
      ]
     },
     "execution_count": 94,
     "metadata": {},
     "output_type": "execute_result"
    }
   ],
   "source": [
    "numeric_data[:,1]"
   ]
  },
  {
   "cell_type": "markdown",
   "id": "dc408940",
   "metadata": {},
   "source": [
    "## Complete Dataset"
   ]
  },
  {
   "cell_type": "code",
   "execution_count": 95,
   "id": "3d6cc6f0",
   "metadata": {},
   "outputs": [],
   "source": [
    "# Stack arrays in sequence horizontally (column wise).\n",
    "\n",
    "loan_data = np.hstack((numeric_data, string_data))"
   ]
  },
  {
   "cell_type": "code",
   "execution_count": 96,
   "id": "50bd9cc2",
   "metadata": {},
   "outputs": [
    {
     "data": {
      "text/plain": [
       "array([[48010226.  ,        0.13,        1.1 , ...,       13.  ,        1.  ,        1.  ],\n",
       "       [57693261.  ,        0.06,        1.11, ...,        5.  ,        1.  ,        4.  ],\n",
       "       [59432726.  ,        0.06,        1.13, ...,       10.  ,        1.  ,        4.  ],\n",
       "       ...,\n",
       "       [50415990.  ,        0.06,        1.12, ...,        5.  ,        1.  ,        1.  ],\n",
       "       [46154151.  ,        0.17,        1.11, ...,       17.  ,        1.  ,        3.  ],\n",
       "       [66055249.  ,        0.06,        1.09, ...,        4.  ,        0.  ,        3.  ]])"
      ]
     },
     "execution_count": 96,
     "metadata": {},
     "output_type": "execute_result"
    }
   ],
   "source": [
    "loan_data"
   ]
  },
  {
   "cell_type": "code",
   "execution_count": 97,
   "id": "e2c2f2fe",
   "metadata": {},
   "outputs": [
    {
     "data": {
      "text/plain": [
       "0"
      ]
     },
     "execution_count": 97,
     "metadata": {},
     "output_type": "execute_result"
    }
   ],
   "source": [
    "np.isnan(loan_data).sum()"
   ]
  },
  {
   "cell_type": "code",
   "execution_count": 98,
   "id": "9cc7ec41",
   "metadata": {},
   "outputs": [],
   "source": [
    "# Join a sequence of arrays along an existing axis.\n",
    "\n",
    "header_full = np.concatenate((numeric_column, string_column))"
   ]
  },
  {
   "cell_type": "code",
   "execution_count": 99,
   "id": "4c3ef81c",
   "metadata": {},
   "outputs": [
    {
     "data": {
      "text/plain": [
       "array(['id', 'int_rate', 'exchange_rate', 'loan_amnt_USD', 'loan_amnt_EUR', 'funded_amnt_USD',\n",
       "       'funded_amnt_EUR', 'installment_USD', 'installment_EUR', 'total_pymnt_USD',\n",
       "       'total_pymnt_EUR', 'issue_date', 'loan_status', 'term_months', 'sub_grade',\n",
       "       'verification_status', 'state_address'], dtype='<U19')"
      ]
     },
     "execution_count": 99,
     "metadata": {},
     "output_type": "execute_result"
    }
   ],
   "source": [
    "header_full"
   ]
  },
  {
   "cell_type": "markdown",
   "id": "166223a6",
   "metadata": {},
   "source": [
    "## Sorting Dataset"
   ]
  },
  {
   "cell_type": "code",
   "execution_count": 100,
   "id": "6d9b03b0",
   "metadata": {},
   "outputs": [],
   "source": [
    "# np.argsort : Returns the indices that would sort an array.\n",
    "\n",
    "loan_data = loan_data[np.argsort(loan_data[:,0])]"
   ]
  },
  {
   "cell_type": "code",
   "execution_count": 101,
   "id": "9612582b",
   "metadata": {},
   "outputs": [
    {
     "data": {
      "text/plain": [
       "array([[  373332.  ,        0.18,        1.1 , ...,       21.  ,        0.  ,        1.  ],\n",
       "       [  575239.  ,        0.21,        1.1 , ...,       36.  ,        1.  ,        2.  ],\n",
       "       [  707689.  ,        0.14,        1.12, ...,       13.  ,        1.  ,        0.  ],\n",
       "       ...,\n",
       "       [68614880.  ,        0.06,        1.09, ...,        8.  ,        1.  ,        1.  ],\n",
       "       [68615915.  ,        0.06,        1.09, ...,       10.  ,        1.  ,        2.  ],\n",
       "       [68616519.  ,        0.06,        1.09, ...,        3.  ,        0.  ,        2.  ]])"
      ]
     },
     "execution_count": 101,
     "metadata": {},
     "output_type": "execute_result"
    }
   ],
   "source": [
    "loan_data"
   ]
  },
  {
   "cell_type": "markdown",
   "id": "f54d5ca5",
   "metadata": {},
   "source": [
    "## Saving Dataset"
   ]
  },
  {
   "cell_type": "code",
   "execution_count": 104,
   "id": "61031fd5",
   "metadata": {},
   "outputs": [
    {
     "data": {
      "text/plain": [
       "array([['id', 'int_rate', 'exchange_rate', ..., 'sub_grade', 'verification_status',\n",
       "        'state_address'],\n",
       "       ['id', 'int_rate', 'exchange_rate', ..., 'sub_grade', 'verification_status',\n",
       "        'state_address'],\n",
       "       ['373332.0', '0.1825', '1.100897192955017', ..., '21.0', '0.0', '1.0'],\n",
       "       ...,\n",
       "       ['68614880.0', '0.06', '1.093398094177246', ..., '8.0', '1.0', '1.0'],\n",
       "       ['68615915.0', '0.06', '1.093398094177246', ..., '10.0', '1.0', '2.0'],\n",
       "       ['68616519.0', '0.06', '1.093398094177246', ..., '3.0', '0.0', '2.0']], dtype='<U32')"
      ]
     },
     "execution_count": 104,
     "metadata": {},
     "output_type": "execute_result"
    }
   ],
   "source": [
    "loan_data = np.vstack((header_full, loan_data))\n",
    "loan_data"
   ]
  },
  {
   "cell_type": "code",
   "execution_count": 103,
   "id": "cfedbde9",
   "metadata": {},
   "outputs": [],
   "source": [
    "np.savetxt('C:/Users/hp/Downloads/Phyton/S23 - A Loan Data Example with NumPy [DONE]/loan-data-preprocessed.csv', \n",
    "           loan_data, \n",
    "           fmt = '%s', \n",
    "           delimiter = ',')"
   ]
  }
 ],
 "metadata": {
  "kernelspec": {
   "display_name": "Python 3 (ipykernel)",
   "language": "python",
   "name": "python3"
  },
  "language_info": {
   "codemirror_mode": {
    "name": "ipython",
    "version": 3
   },
   "file_extension": ".py",
   "mimetype": "text/x-python",
   "name": "python",
   "nbconvert_exporter": "python",
   "pygments_lexer": "ipython3",
   "version": "3.11.5"
  }
 },
 "nbformat": 4,
 "nbformat_minor": 5
}
